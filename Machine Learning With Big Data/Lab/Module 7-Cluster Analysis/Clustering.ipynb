{
 "cells": [
  {
   "cell_type": "markdown",
   "metadata": {},
   "source": [
    "# Hands-On: Clustering"
   ]
  },
  {
   "cell_type": "code",
   "execution_count": 1,
   "metadata": {
    "collapsed": false,
    "jupyter": {
     "outputs_hidden": false
    }
   },
   "outputs": [],
   "source": [
    "from pyspark.sql import SparkSession\n",
    "from pyspark.ml.clustering import KMeans\n",
    "from pyspark.ml.feature import VectorAssembler\n",
    "from pyspark.ml.feature import StandardScaler\n",
    "from notebooks import utils\n",
    "%matplotlib inline"
   ]
  },
  {
   "cell_type": "code",
   "execution_count": 2,
   "metadata": {
    "collapsed": false,
    "jupyter": {
     "outputs_hidden": false
    }
   },
   "outputs": [],
   "source": [
    "spark = SparkSession.builder.appName(\"clustering\").getOrCreate()\n",
    "df = spark.read.csv('data/minute_weather.csv', header=True, inferSchema=True)"
   ]
  },
  {
   "cell_type": "code",
   "execution_count": 3,
   "metadata": {},
   "outputs": [
    {
     "data": {
      "text/plain": [
       "1587257"
      ]
     },
     "execution_count": 3,
     "metadata": {},
     "output_type": "execute_result"
    }
   ],
   "source": [
    "df.count()"
   ]
  },
  {
   "cell_type": "code",
   "execution_count": 4,
   "metadata": {},
   "outputs": [
    {
     "data": {
      "text/plain": [
       "158726"
      ]
     },
     "execution_count": 4,
     "metadata": {},
     "output_type": "execute_result"
    }
   ],
   "source": [
    "filteredDF = df.filter((df.rowID % 10)==0)\n",
    "filteredDF.count()"
   ]
  },
  {
   "cell_type": "code",
   "execution_count": 5,
   "metadata": {},
   "outputs": [
    {
     "data": {
      "text/html": [
       "<div>\n",
       "<style scoped>\n",
       "    .dataframe tbody tr th:only-of-type {\n",
       "        vertical-align: middle;\n",
       "    }\n",
       "\n",
       "    .dataframe tbody tr th {\n",
       "        vertical-align: top;\n",
       "    }\n",
       "\n",
       "    .dataframe thead th {\n",
       "        text-align: right;\n",
       "    }\n",
       "</style>\n",
       "<table border=\"1\" class=\"dataframe\">\n",
       "  <thead>\n",
       "    <tr style=\"text-align: right;\">\n",
       "      <th></th>\n",
       "      <th>0</th>\n",
       "      <th>1</th>\n",
       "      <th>2</th>\n",
       "      <th>3</th>\n",
       "      <th>4</th>\n",
       "    </tr>\n",
       "  </thead>\n",
       "  <tbody>\n",
       "    <tr>\n",
       "      <th>summary</th>\n",
       "      <td>count</td>\n",
       "      <td>mean</td>\n",
       "      <td>stddev</td>\n",
       "      <td>min</td>\n",
       "      <td>max</td>\n",
       "    </tr>\n",
       "    <tr>\n",
       "      <th>rowID</th>\n",
       "      <td>158726</td>\n",
       "      <td>793625.0</td>\n",
       "      <td>458203.9375103623</td>\n",
       "      <td>0</td>\n",
       "      <td>1587250</td>\n",
       "    </tr>\n",
       "    <tr>\n",
       "      <th>air_pressure</th>\n",
       "      <td>158726</td>\n",
       "      <td>916.8301614102413</td>\n",
       "      <td>3.051716552830777</td>\n",
       "      <td>905.0</td>\n",
       "      <td>929.5</td>\n",
       "    </tr>\n",
       "    <tr>\n",
       "      <th>air_temp</th>\n",
       "      <td>158726</td>\n",
       "      <td>61.851589153636084</td>\n",
       "      <td>11.833569210641707</td>\n",
       "      <td>31.64</td>\n",
       "      <td>99.5</td>\n",
       "    </tr>\n",
       "    <tr>\n",
       "      <th>avg_wind_direction</th>\n",
       "      <td>158680</td>\n",
       "      <td>162.15610032770354</td>\n",
       "      <td>95.27820101905918</td>\n",
       "      <td>0.0</td>\n",
       "      <td>359.0</td>\n",
       "    </tr>\n",
       "    <tr>\n",
       "      <th>avg_wind_speed</th>\n",
       "      <td>158680</td>\n",
       "      <td>2.7752148979077367</td>\n",
       "      <td>2.057623969742644</td>\n",
       "      <td>0.0</td>\n",
       "      <td>31.9</td>\n",
       "    </tr>\n",
       "    <tr>\n",
       "      <th>max_wind_direction</th>\n",
       "      <td>158680</td>\n",
       "      <td>163.46214393748426</td>\n",
       "      <td>92.45213853838698</td>\n",
       "      <td>0.0</td>\n",
       "      <td>359.0</td>\n",
       "    </tr>\n",
       "    <tr>\n",
       "      <th>max_wind_speed</th>\n",
       "      <td>158680</td>\n",
       "      <td>3.400557726241551</td>\n",
       "      <td>2.4188016208098855</td>\n",
       "      <td>0.1</td>\n",
       "      <td>36.0</td>\n",
       "    </tr>\n",
       "    <tr>\n",
       "      <th>min_wind_direction</th>\n",
       "      <td>158680</td>\n",
       "      <td>166.77401688933702</td>\n",
       "      <td>97.44110914784568</td>\n",
       "      <td>0.0</td>\n",
       "      <td>359.0</td>\n",
       "    </tr>\n",
       "    <tr>\n",
       "      <th>min_wind_speed</th>\n",
       "      <td>158680</td>\n",
       "      <td>2.134664103856835</td>\n",
       "      <td>1.742112505242438</td>\n",
       "      <td>0.0</td>\n",
       "      <td>31.6</td>\n",
       "    </tr>\n",
       "    <tr>\n",
       "      <th>rain_accumulation</th>\n",
       "      <td>158725</td>\n",
       "      <td>3.1784532997328256E-4</td>\n",
       "      <td>0.01123597908603979</td>\n",
       "      <td>0.0</td>\n",
       "      <td>3.12</td>\n",
       "    </tr>\n",
       "    <tr>\n",
       "      <th>rain_duration</th>\n",
       "      <td>158725</td>\n",
       "      <td>0.4096267128681682</td>\n",
       "      <td>8.66552269347979</td>\n",
       "      <td>0.0</td>\n",
       "      <td>2960.0</td>\n",
       "    </tr>\n",
       "    <tr>\n",
       "      <th>relative_humidity</th>\n",
       "      <td>158726</td>\n",
       "      <td>47.60946977810815</td>\n",
       "      <td>26.214408535062063</td>\n",
       "      <td>0.9</td>\n",
       "      <td>93.0</td>\n",
       "    </tr>\n",
       "  </tbody>\n",
       "</table>\n",
       "</div>"
      ],
      "text/plain": [
       "                         0                      1                    2      3  \\\n",
       "summary              count                   mean               stddev    min   \n",
       "rowID               158726               793625.0    458203.9375103623      0   \n",
       "air_pressure        158726      916.8301614102413    3.051716552830777  905.0   \n",
       "air_temp            158726     61.851589153636084   11.833569210641707  31.64   \n",
       "avg_wind_direction  158680     162.15610032770354    95.27820101905918    0.0   \n",
       "avg_wind_speed      158680     2.7752148979077367    2.057623969742644    0.0   \n",
       "max_wind_direction  158680     163.46214393748426    92.45213853838698    0.0   \n",
       "max_wind_speed      158680      3.400557726241551   2.4188016208098855    0.1   \n",
       "min_wind_direction  158680     166.77401688933702    97.44110914784568    0.0   \n",
       "min_wind_speed      158680      2.134664103856835    1.742112505242438    0.0   \n",
       "rain_accumulation   158725  3.1784532997328256E-4  0.01123597908603979    0.0   \n",
       "rain_duration       158725     0.4096267128681682     8.66552269347979    0.0   \n",
       "relative_humidity   158726      47.60946977810815   26.214408535062063    0.9   \n",
       "\n",
       "                          4  \n",
       "summary                 max  \n",
       "rowID               1587250  \n",
       "air_pressure          929.5  \n",
       "air_temp               99.5  \n",
       "avg_wind_direction    359.0  \n",
       "avg_wind_speed         31.9  \n",
       "max_wind_direction    359.0  \n",
       "max_wind_speed         36.0  \n",
       "min_wind_direction    359.0  \n",
       "min_wind_speed         31.6  \n",
       "rain_accumulation      3.12  \n",
       "rain_duration        2960.0  \n",
       "relative_humidity      93.0  "
      ]
     },
     "execution_count": 5,
     "metadata": {},
     "output_type": "execute_result"
    }
   ],
   "source": [
    "filteredDF.describe().toPandas().transpose()"
   ]
  },
  {
   "cell_type": "code",
   "execution_count": 6,
   "metadata": {},
   "outputs": [
    {
     "data": {
      "text/plain": [
       "157812"
      ]
     },
     "execution_count": 6,
     "metadata": {},
     "output_type": "execute_result"
    }
   ],
   "source": [
    "filteredDF.filter(filteredDF.rain_accumulation==0.0).count()"
   ]
  },
  {
   "cell_type": "code",
   "execution_count": 7,
   "metadata": {},
   "outputs": [
    {
     "data": {
      "text/plain": [
       "157237"
      ]
     },
     "execution_count": 7,
     "metadata": {},
     "output_type": "execute_result"
    }
   ],
   "source": [
    "filteredDF.filter(filteredDF.rain_duration==0.0).count()"
   ]
  },
  {
   "cell_type": "code",
   "execution_count": 8,
   "metadata": {},
   "outputs": [],
   "source": [
    "workingDF = filteredDF.drop('rain_accumulation').drop('rain_duration').drop('hpwren_timestamp')"
   ]
  },
  {
   "cell_type": "code",
   "execution_count": 9,
   "metadata": {},
   "outputs": [
    {
     "data": {
      "text/plain": [
       "46"
      ]
     },
     "execution_count": 9,
     "metadata": {},
     "output_type": "execute_result"
    }
   ],
   "source": [
    "before = workingDF.count()\n",
    "workingDF = workingDF.na.drop()\n",
    "after = workingDF.count()\n",
    "before - after"
   ]
  },
  {
   "cell_type": "code",
   "execution_count": 10,
   "metadata": {},
   "outputs": [
    {
     "data": {
      "text/plain": [
       "['rowID',\n",
       " 'air_pressure',\n",
       " 'air_temp',\n",
       " 'avg_wind_direction',\n",
       " 'avg_wind_speed',\n",
       " 'max_wind_direction',\n",
       " 'max_wind_speed',\n",
       " 'min_wind_direction',\n",
       " 'min_wind_speed',\n",
       " 'relative_humidity']"
      ]
     },
     "execution_count": 10,
     "metadata": {},
     "output_type": "execute_result"
    }
   ],
   "source": [
    "workingDF.columns"
   ]
  },
  {
   "cell_type": "code",
   "execution_count": 11,
   "metadata": {},
   "outputs": [],
   "source": [
    "featuresUsed = ['air_pressure',\n",
    " 'air_temp',\n",
    " 'avg_wind_direction',\n",
    " 'avg_wind_speed',\n",
    " 'max_wind_direction',\n",
    " 'max_wind_speed', 'relative_humidity']\n",
    "assembler = VectorAssembler(inputCols=featuresUsed, outputCol='features_unscaled')\n",
    "assembled = assembler.transform(workingDF)"
   ]
  },
  {
   "cell_type": "code",
   "execution_count": 12,
   "metadata": {},
   "outputs": [],
   "source": [
    "scaler = StandardScaler(inputCol=\"features_unscaled\", outputCol=\"features\", withStd=True, withMean=True)\n",
    "scalerModel = scaler.fit(assembled)\n",
    "scaledData = scalerModel.transform(assembled)"
   ]
  },
  {
   "cell_type": "code",
   "execution_count": 13,
   "metadata": {},
   "outputs": [
    {
     "data": {
      "text/plain": [
       "DataFrame[features: vector]"
      ]
     },
     "execution_count": 13,
     "metadata": {},
     "output_type": "execute_result"
    }
   ],
   "source": [
    "scaledData = scaledData.select(\"features\",\"rowID\")\n",
    "elbowset = scaledData.filter((scaledData.rowID % 3)==0).select(\"features\")\n",
    "elbowset.persist()"
   ]
  },
  {
   "cell_type": "code",
   "execution_count": null,
   "metadata": {},
   "outputs": [
    {
     "name": "stdout",
     "output_type": "stream",
     "text": [
      "Training for cluster size 2 \n",
      "......................WSSE = 114993.08947326531 \n",
      "Training for cluster size 3 \n",
      "......................WSSE = 103421.37370631342 \n",
      "Training for cluster size 4 \n",
      "......................WSSE = 95150.55982034055 \n",
      "Training for cluster size 5 \n",
      "......................WSSE = 87993.46098416099 \n",
      "Training for cluster size 6 \n",
      "......................WSSE = 84411.7705174048 \n",
      "Training for cluster size 7 \n"
     ]
    }
   ],
   "source": [
    "clusters = range(2,31)\n",
    "wsseList = utils.elbow(elbowset,clusters)"
   ]
  },
  {
   "cell_type": "code",
   "execution_count": null,
   "metadata": {},
   "outputs": [],
   "source": [
    "utils.elbow_plot(wsseList,clusters)"
   ]
  },
  {
   "cell_type": "code",
   "execution_count": null,
   "metadata": {},
   "outputs": [],
   "source": [
    "scaledDataFeat = scaledData.select(\"features\")\n",
    "scaledDataFeat.persist()"
   ]
  },
  {
   "cell_type": "code",
   "execution_count": null,
   "metadata": {},
   "outputs": [],
   "source": [
    "kmeans = KMeans(k=12, seed=1)\n",
    "model = kmeans.fit(scaledDataFeat)\n",
    "transformed = model.transform(scaledDataFeat)"
   ]
  },
  {
   "cell_type": "code",
   "execution_count": null,
   "metadata": {},
   "outputs": [],
   "source": [
    "model.clusterCenters()"
   ]
  },
  {
   "cell_type": "code",
   "execution_count": null,
   "metadata": {},
   "outputs": [],
   "source": [
    "P = utils.pd_centers(featuresUsed, model.clusterCenters())"
   ]
  },
  {
   "cell_type": "code",
   "execution_count": null,
   "metadata": {},
   "outputs": [],
   "source": [
    "utils.parallel_plot(P[P['relative_humidity']<-0.5],P)"
   ]
  },
  {
   "cell_type": "code",
   "execution_count": null,
   "metadata": {},
   "outputs": [],
   "source": [
    "utils.parallel_plot(P[P['air_temp']>0.5],P)"
   ]
  },
  {
   "cell_type": "code",
   "execution_count": null,
   "metadata": {},
   "outputs": [],
   "source": [
    "utils.parallel_plot(P[(P['relative_humidity']>0.5) & (P['air_temp'] < 0.5)],P)"
   ]
  },
  {
   "cell_type": "code",
   "execution_count": null,
   "metadata": {},
   "outputs": [],
   "source": [
    "utils.parallel_plot(P.iloc[[2]],P)"
   ]
  }
 ],
 "metadata": {
  "kernelspec": {
   "display_name": "Python 3 (ipykernel)",
   "language": "python",
   "name": "python3"
  },
  "language_info": {
   "codemirror_mode": {
    "name": "ipython",
    "version": 3
   },
   "file_extension": ".py",
   "mimetype": "text/x-python",
   "name": "python",
   "nbconvert_exporter": "python",
   "pygments_lexer": "ipython3",
   "version": "3.11.6"
  }
 },
 "nbformat": 4,
 "nbformat_minor": 4
}
