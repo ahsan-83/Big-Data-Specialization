{
 "cells": [
  {
   "cell_type": "markdown",
   "id": "e6cb2062-4965-420f-84fb-730068902e5d",
   "metadata": {},
   "source": [
    "# Hands-On: Data Exploration"
   ]
  },
  {
   "cell_type": "code",
   "execution_count": 2,
   "id": "6cee10c2-05ec-4458-b662-6332e063f0a7",
   "metadata": {},
   "outputs": [],
   "source": [
    "from pyspark.sql import SparkSession\n",
    "\n",
    "# Create a SparkSession\n",
    "spark = SparkSession.builder \\\n",
    "    .appName(\"Data exploration\") \\\n",
    "    .getOrCreate()"
   ]
  },
  {
   "cell_type": "code",
   "execution_count": 3,
   "id": "1ca4e6b0-2317-42b6-a837-3ac0126f6b65",
   "metadata": {},
   "outputs": [],
   "source": [
    "path_to_file = 'data/daily_weather.csv'\n",
    "df = spark.read.csv(path_to_file, header=True, inferSchema=True)"
   ]
  },
  {
   "cell_type": "code",
   "execution_count": 4,
   "id": "97b9e1a6-5589-403c-bdb2-aac93cf09d58",
   "metadata": {},
   "outputs": [
    {
     "data": {
      "text/plain": [
       "['number',\n",
       " 'air_pressure_9am',\n",
       " 'air_temp_9am',\n",
       " 'avg_wind_direction_9am',\n",
       " 'avg_wind_speed_9am',\n",
       " 'max_wind_direction_9am',\n",
       " 'max_wind_speed_9am',\n",
       " 'rain_accumulation_9am',\n",
       " 'rain_duration_9am',\n",
       " 'relative_humidity_9am',\n",
       " 'relative_humidity_3pm']"
      ]
     },
     "execution_count": 4,
     "metadata": {},
     "output_type": "execute_result"
    }
   ],
   "source": [
    "df.columns"
   ]
  },
  {
   "cell_type": "code",
   "execution_count": 5,
   "id": "028e36ec-6218-4320-8e37-f86440227d3a",
   "metadata": {},
   "outputs": [
    {
     "name": "stdout",
     "output_type": "stream",
     "text": [
      "root\n",
      " |-- number: integer (nullable = true)\n",
      " |-- air_pressure_9am: double (nullable = true)\n",
      " |-- air_temp_9am: double (nullable = true)\n",
      " |-- avg_wind_direction_9am: double (nullable = true)\n",
      " |-- avg_wind_speed_9am: double (nullable = true)\n",
      " |-- max_wind_direction_9am: double (nullable = true)\n",
      " |-- max_wind_speed_9am: double (nullable = true)\n",
      " |-- rain_accumulation_9am: double (nullable = true)\n",
      " |-- rain_duration_9am: double (nullable = true)\n",
      " |-- relative_humidity_9am: double (nullable = true)\n",
      " |-- relative_humidity_3pm: double (nullable = true)\n",
      "\n"
     ]
    }
   ],
   "source": [
    "df.printSchema()"
   ]
  },
  {
   "cell_type": "code",
   "execution_count": 6,
   "id": "64a090f0-a3dd-4ab7-823b-4f4d53b861cf",
   "metadata": {},
   "outputs": [
    {
     "data": {
      "text/html": [
       "<div>\n",
       "<style scoped>\n",
       "    .dataframe tbody tr th:only-of-type {\n",
       "        vertical-align: middle;\n",
       "    }\n",
       "\n",
       "    .dataframe tbody tr th {\n",
       "        vertical-align: top;\n",
       "    }\n",
       "\n",
       "    .dataframe thead th {\n",
       "        text-align: right;\n",
       "    }\n",
       "</style>\n",
       "<table border=\"1\" class=\"dataframe\">\n",
       "  <thead>\n",
       "    <tr style=\"text-align: right;\">\n",
       "      <th></th>\n",
       "      <th>summary</th>\n",
       "      <th>number</th>\n",
       "      <th>air_pressure_9am</th>\n",
       "      <th>air_temp_9am</th>\n",
       "      <th>avg_wind_direction_9am</th>\n",
       "      <th>avg_wind_speed_9am</th>\n",
       "      <th>max_wind_direction_9am</th>\n",
       "      <th>max_wind_speed_9am</th>\n",
       "      <th>rain_accumulation_9am</th>\n",
       "      <th>rain_duration_9am</th>\n",
       "      <th>relative_humidity_9am</th>\n",
       "      <th>relative_humidity_3pm</th>\n",
       "    </tr>\n",
       "  </thead>\n",
       "  <tbody>\n",
       "    <tr>\n",
       "      <th>0</th>\n",
       "      <td>count</td>\n",
       "      <td>1095</td>\n",
       "      <td>1092</td>\n",
       "      <td>1090</td>\n",
       "      <td>1091</td>\n",
       "      <td>1092</td>\n",
       "      <td>1092</td>\n",
       "      <td>1091</td>\n",
       "      <td>1089</td>\n",
       "      <td>1092</td>\n",
       "      <td>1095</td>\n",
       "      <td>1095</td>\n",
       "    </tr>\n",
       "    <tr>\n",
       "      <th>1</th>\n",
       "      <td>mean</td>\n",
       "      <td>547.0</td>\n",
       "      <td>918.8825513138094</td>\n",
       "      <td>64.93300141287072</td>\n",
       "      <td>142.2355107005759</td>\n",
       "      <td>5.50828424225493</td>\n",
       "      <td>148.95351796516923</td>\n",
       "      <td>7.019513529175272</td>\n",
       "      <td>0.20307895225211126</td>\n",
       "      <td>294.1080522756142</td>\n",
       "      <td>34.24140205923536</td>\n",
       "      <td>35.34472714825898</td>\n",
       "    </tr>\n",
       "    <tr>\n",
       "      <th>2</th>\n",
       "      <td>stddev</td>\n",
       "      <td>316.24357700987383</td>\n",
       "      <td>3.184161180386833</td>\n",
       "      <td>11.175514003175877</td>\n",
       "      <td>69.13785928889189</td>\n",
       "      <td>4.5528134655317185</td>\n",
       "      <td>67.23801294602953</td>\n",
       "      <td>5.598209170780958</td>\n",
       "      <td>1.5939521253574893</td>\n",
       "      <td>1598.0787786601481</td>\n",
       "      <td>25.472066802250055</td>\n",
       "      <td>22.524079453587273</td>\n",
       "    </tr>\n",
       "    <tr>\n",
       "      <th>3</th>\n",
       "      <td>min</td>\n",
       "      <td>0</td>\n",
       "      <td>907.9900000000024</td>\n",
       "      <td>36.752000000000685</td>\n",
       "      <td>15.500000000000046</td>\n",
       "      <td>0.69345139999974</td>\n",
       "      <td>28.89999999999991</td>\n",
       "      <td>1.1855782000000479</td>\n",
       "      <td>0.0</td>\n",
       "      <td>0.0</td>\n",
       "      <td>6.090000000001012</td>\n",
       "      <td>5.3000000000006855</td>\n",
       "    </tr>\n",
       "    <tr>\n",
       "      <th>4</th>\n",
       "      <td>max</td>\n",
       "      <td>1094</td>\n",
       "      <td>929.3200000000012</td>\n",
       "      <td>98.90599999999992</td>\n",
       "      <td>343.4</td>\n",
       "      <td>23.554978199999763</td>\n",
       "      <td>312.19999999999993</td>\n",
       "      <td>29.84077959999996</td>\n",
       "      <td>24.01999999999907</td>\n",
       "      <td>17704.0</td>\n",
       "      <td>92.6200000000002</td>\n",
       "      <td>92.2500000000003</td>\n",
       "    </tr>\n",
       "  </tbody>\n",
       "</table>\n",
       "</div>"
      ],
      "text/plain": [
       "  summary              number   air_pressure_9am        air_temp_9am  \\\n",
       "0   count                1095               1092                1090   \n",
       "1    mean               547.0  918.8825513138094   64.93300141287072   \n",
       "2  stddev  316.24357700987383  3.184161180386833  11.175514003175877   \n",
       "3     min                   0  907.9900000000024  36.752000000000685   \n",
       "4     max                1094  929.3200000000012   98.90599999999992   \n",
       "\n",
       "  avg_wind_direction_9am  avg_wind_speed_9am max_wind_direction_9am  \\\n",
       "0                   1091                1092                   1092   \n",
       "1      142.2355107005759    5.50828424225493     148.95351796516923   \n",
       "2      69.13785928889189  4.5528134655317185      67.23801294602953   \n",
       "3     15.500000000000046    0.69345139999974      28.89999999999991   \n",
       "4                  343.4  23.554978199999763     312.19999999999993   \n",
       "\n",
       "   max_wind_speed_9am rain_accumulation_9am   rain_duration_9am  \\\n",
       "0                1091                  1089                1092   \n",
       "1   7.019513529175272   0.20307895225211126   294.1080522756142   \n",
       "2   5.598209170780958    1.5939521253574893  1598.0787786601481   \n",
       "3  1.1855782000000479                   0.0                 0.0   \n",
       "4   29.84077959999996     24.01999999999907             17704.0   \n",
       "\n",
       "  relative_humidity_9am relative_humidity_3pm  \n",
       "0                  1095                  1095  \n",
       "1     34.24140205923536     35.34472714825898  \n",
       "2    25.472066802250055    22.524079453587273  \n",
       "3     6.090000000001012    5.3000000000006855  \n",
       "4      92.6200000000002      92.2500000000003  "
      ]
     },
     "execution_count": 6,
     "metadata": {},
     "output_type": "execute_result"
    }
   ],
   "source": [
    "df.describe().toPandas()"
   ]
  },
  {
   "cell_type": "code",
   "execution_count": 7,
   "id": "46e41ebb-216a-4391-9f1e-331128d4cf95",
   "metadata": {},
   "outputs": [
    {
     "name": "stdout",
     "output_type": "stream",
     "text": [
      "+-------+-----------------+\n",
      "|summary| air_pressure_9am|\n",
      "+-------+-----------------+\n",
      "|  count|             1092|\n",
      "|   mean|918.8825513138094|\n",
      "| stddev|3.184161180386833|\n",
      "|    min|907.9900000000024|\n",
      "|    max|929.3200000000012|\n",
      "+-------+-----------------+\n",
      "\n"
     ]
    }
   ],
   "source": [
    "df.describe('air_pressure_9am').show()"
   ]
  },
  {
   "cell_type": "code",
   "execution_count": 8,
   "id": "eabe78f4-885b-4cfc-b8c0-ee7053e85aa7",
   "metadata": {},
   "outputs": [
    {
     "data": {
      "text/plain": [
       "11"
      ]
     },
     "execution_count": 8,
     "metadata": {},
     "output_type": "execute_result"
    }
   ],
   "source": [
    "len(df.columns)"
   ]
  },
  {
   "cell_type": "code",
   "execution_count": 9,
   "id": "94385eef-2f35-4728-b6be-a4ab0c750d16",
   "metadata": {},
   "outputs": [
    {
     "data": {
      "text/plain": [
       "1095"
      ]
     },
     "execution_count": 9,
     "metadata": {},
     "output_type": "execute_result"
    }
   ],
   "source": [
    "df.count()"
   ]
  },
  {
   "cell_type": "code",
   "execution_count": 14,
   "id": "ffe77b8b-8a59-4100-ac02-c6ea9fb1dfef",
   "metadata": {},
   "outputs": [],
   "source": [
    "df2 = df.na.drop(subset=['rain_accumulation_9am'])"
   ]
  },
  {
   "cell_type": "code",
   "execution_count": 15,
   "id": "9a8d74af-3090-4305-ac5c-0c06ac0b3dbb",
   "metadata": {},
   "outputs": [
    {
     "data": {
      "text/plain": [
       "1089"
      ]
     },
     "execution_count": 15,
     "metadata": {},
     "output_type": "execute_result"
    }
   ],
   "source": [
    "df2.count()"
   ]
  },
  {
   "cell_type": "code",
   "execution_count": 12,
   "id": "2038186b-5fcc-4f56-abf4-d223c68908d9",
   "metadata": {},
   "outputs": [
    {
     "data": {
      "text/plain": [
       "0.7298253479609021"
      ]
     },
     "execution_count": 12,
     "metadata": {},
     "output_type": "execute_result"
    }
   ],
   "source": [
    "df2.stat.corr('rain_accumulation_9am','rain_duration_9am')"
   ]
  },
  {
   "cell_type": "code",
   "execution_count": null,
   "id": "3053a1f6-d693-4f7b-a7e1-20dc9fb5185e",
   "metadata": {},
   "outputs": [],
   "source": []
  }
 ],
 "metadata": {
  "kernelspec": {
   "display_name": "Python 3 (ipykernel)",
   "language": "python",
   "name": "python3"
  },
  "language_info": {
   "codemirror_mode": {
    "name": "ipython",
    "version": 3
   },
   "file_extension": ".py",
   "mimetype": "text/x-python",
   "name": "python",
   "nbconvert_exporter": "python",
   "pygments_lexer": "ipython3",
   "version": "3.11.6"
  }
 },
 "nbformat": 4,
 "nbformat_minor": 5
}
