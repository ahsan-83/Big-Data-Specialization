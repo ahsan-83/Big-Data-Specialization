{
 "cells": [
  {
   "cell_type": "markdown",
   "id": "43dd35ad-30f9-4fa6-8c5d-ddcf97438597",
   "metadata": {},
   "source": [
    "# Hands On: Spark Streaming"
   ]
  },
  {
   "cell_type": "code",
   "execution_count": null,
   "id": "9112f43f-ecef-4c80-858f-4cc24d5646bc",
   "metadata": {},
   "outputs": [],
   "source": [
    "# Example weather station data\n",
    "#\n",
    "# 1419408015\t0R1,Dn=059D,Dm=066D,Dx=080D,Sn=8.5M,Sm=9.5M,Sx=10.3M\n",
    "# 1419408016\t0R1,Dn=059D,Dm=065D,Dx=078D,Sn=8.5M,Sm=9.5M,Sx=10.3M\n",
    "# 1419408016\t0R2,Ta=13.9C,Ua=28.5P,Pa=889.9H\n",
    "# 1419408017\t0R1,Dn=059D,Dm=064D,Dx=075D,Sn=8.7M,Sm=9.6M,Sx=10.3M\n",
    "# 1419408018\t0R1,Dn=059D,Dm=064D,Dx=075D,Sn=8.9M,Sm=9.6M,Sx=10.3M\n",
    "# 1419408019\t0R1,Dn=059D,Dm=065D,Dx=075D,Sn=8.8M,Sm=9.5M,Sx=10.3M"
   ]
  },
  {
   "cell_type": "code",
   "execution_count": null,
   "id": "93d84318-d5cd-4a3f-bebb-a5b48c24890e",
   "metadata": {},
   "outputs": [],
   "source": [
    "# Key for measurements:\n",
    "#\n",
    "# Sn      Wind speed minimum m/s, km/h, mph, knots #,M, K, S, N\n",
    "# Sm      Wind speed average m/s, km/h, mph, knots #,M, K, S, N\n",
    "# Sx      Wind speed maximum m/s, km/h, mph, knots #,M, K, S, N\n",
    "# Dn      Wind direction minimum deg #, D\n",
    "# Dm      Wind direction average deg #, D\n",
    "# Dx      Wind direction maximum deg #, D\n",
    "# Pa      Air pressure hPa, Pa, bar, mmHg, inHg #, H, P, B, M, I\n",
    "# Ta      Air temperature °C, °F #, C, F\n",
    "# Tp      Internal temperature °C, °F #, C, F\n",
    "# Ua      Relative humidity %RH #, P\n",
    "# Rc      Rain accumulation mm, in #, M, I\n",
    "# Rd      Rain duration s #, S\n",
    "# Ri      Rain intensity mm/h, in/h #, M, I\n",
    "# Rp      Rain peak intensity mm/h, in/h #, M, I\n",
    "# Hc      Hail accumulation hits/cm2, hits/in2, hits #, M, I, H\n",
    "# Hd      Hail duration s #, S\n",
    "# Hi      Hail intensity hits/cm2h, hits/in2h, hits/ h #, M, I, H\n",
    "# Hp      Hail peak intensity hits/cm2h, hits/in2h, hits/ h #, M, I, H\n",
    "# Th      Heating temperature °C, °F #, C, F\n",
    "# Vh      Heating voltage V #, N, V, W, F2\n",
    "# Vs      Supply voltage V V\n",
    "# Vr      3.5 V ref. voltage V V"
   ]
  },
  {
   "cell_type": "code",
   "execution_count": null,
   "id": "2ec1e3ed-4fbe-4b1b-a6e1-f7bf1aaa29c1",
   "metadata": {},
   "outputs": [],
   "source": [
    "import re\n",
    "def parse(line):\n",
    "    match = re.search(r\"Dm=(\\d+)\", line)\n",
    "    if match:\n",
    "        val = match.group(1)\n",
    "        return int(val)\n",
    "    return None"
   ]
  },
  {
   "cell_type": "code",
   "execution_count": null,
   "id": "29e9abda-e08c-4f01-b967-204a62e6f667",
   "metadata": {},
   "outputs": [],
   "source": [
    "from pyspark.sql import SparkSession\n",
    "from pyspark.sql.functions import *\n",
    "from pyspark.sql.types import IntegerType, TimestampType\n",
    "from pyspark.sql.window import Window\n",
    "\n",
    "spark = SparkSession.builder.appName(\"StructuredStreaming\").getOrCreate()"
   ]
  },
  {
   "cell_type": "code",
   "execution_count": null,
   "id": "f632b642-9cdd-4b03-9bce-c03648d67914",
   "metadata": {},
   "outputs": [],
   "source": [
    "lines = (\n",
    "    spark\n",
    "    .readStream\n",
    "    .format(\"socket\")\n",
    "    .option(\"host\", \"rtd.hpwren.ucsd.edu\")\n",
    "    .option(\"port\", 12024)\n",
    "    .load()\n",
    ")\n",
    "lines"
   ]
  },
  {
   "cell_type": "code",
   "execution_count": null,
   "id": "5097992c-a725-4b3c-b441-e236c1adada3",
   "metadata": {},
   "outputs": [],
   "source": [
    "parsed_lines =lines.withColumn(\"parsed\", udf(parse, IntegerType())(\"value\"))\n",
    "parsed_lines"
   ]
  },
  {
   "cell_type": "code",
   "execution_count": null,
   "id": "088d91eb-7734-4b40-bae1-954be8a7c715",
   "metadata": {},
   "outputs": [],
   "source": [
    "windowed_data = (\n",
    "    parsed_lines\n",
    "    .withColumn(\"time\", current_timestamp())\n",
    "    .groupBy(window(\"time\", \"10 seconds\"))\n",
    "    .agg(collect_list(\"parsed\").alias(\"wind_direction\"))\n",
    "    .withColumn(\"max_val\", array_max(\"wind_direction\"))\n",
    "    .withColumn(\"min_val\", array_min(\"wind_direction\"))\n",
    "    .select(\"wind_direction\", \"max_val\", \"min_val\")\n",
    ")\n",
    "windowed_data"
   ]
  },
  {
   "cell_type": "code",
   "execution_count": null,
   "id": "00d951d1-5dea-4725-b80d-939e9a4827d6",
   "metadata": {},
   "outputs": [],
   "source": [
    "query = (\n",
    "    windowed_data\n",
    "    .writeStream\n",
    "    .outputMode(\"update\")\n",
    "    .trigger(processingTime=\"10 seconds\") \n",
    "    .foreachBatch(lambda batch_df, epoch_id: batch_df.show(truncate=False))\n",
    "    .start()\n",
    ")"
   ]
  },
  {
   "cell_type": "code",
   "execution_count": null,
   "id": "bd9723f0-1f37-44fc-9c5d-2384e1ebf5c0",
   "metadata": {},
   "outputs": [],
   "source": [
    "query.stop()"
   ]
  }
 ],
 "metadata": {
  "kernelspec": {
   "display_name": "Python 3 (ipykernel)",
   "language": "python",
   "name": "python3"
  },
  "language_info": {
   "codemirror_mode": {
    "name": "ipython",
    "version": 3
   },
   "file_extension": ".py",
   "mimetype": "text/x-python",
   "name": "python",
   "nbconvert_exporter": "python",
   "pygments_lexer": "ipython3",
   "version": "3.11.6"
  }
 },
 "nbformat": 4,
 "nbformat_minor": 5
}
