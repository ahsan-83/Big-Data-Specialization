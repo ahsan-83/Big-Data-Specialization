{
 "cells": [
  {
   "cell_type": "markdown",
   "id": "f3517ae0-35ff-4182-bc5f-43c54d39291c",
   "metadata": {},
   "source": [
    "# Hands On: Wordcount"
   ]
  },
  {
   "cell_type": "code",
   "execution_count": 1,
   "id": "0ca0bcc0-1cdd-492f-b2ed-55d2f01b9684",
   "metadata": {},
   "outputs": [],
   "source": [
    "from pyspark import SparkContext\n",
    "sc = SparkContext(appName=\"Wordcount\")"
   ]
  },
  {
   "cell_type": "code",
   "execution_count": 2,
   "id": "29c64493-fd0f-4b95-ab83-706b03f50b5b",
   "metadata": {},
   "outputs": [],
   "source": [
    "lines = sc.textFile(\"data/words.txt\")"
   ]
  },
  {
   "cell_type": "code",
   "execution_count": 3,
   "id": "a83bb697-2df9-4d9f-8db9-76b28bf564de",
   "metadata": {},
   "outputs": [
    {
     "data": {
      "text/plain": [
       "124456"
      ]
     },
     "execution_count": 3,
     "metadata": {},
     "output_type": "execute_result"
    }
   ],
   "source": [
    "lines.count()"
   ]
  },
  {
   "cell_type": "code",
   "execution_count": 4,
   "id": "f2799e9c-8c06-4881-b1da-0e9d5fe474d1",
   "metadata": {},
   "outputs": [],
   "source": [
    "words = lines.flatMap(lambda line : line.split(\" \"))"
   ]
  },
  {
   "cell_type": "code",
   "execution_count": 5,
   "id": "5d08d497-55c7-4e94-9c26-3ce6310e19ae",
   "metadata": {},
   "outputs": [],
   "source": [
    "tuples = words.map(lambda word : (word, 1))"
   ]
  },
  {
   "cell_type": "code",
   "execution_count": 6,
   "id": "858900ee-8377-46ba-a03e-ad642dad3180",
   "metadata": {},
   "outputs": [],
   "source": [
    "counts = tuples.reduceByKey(lambda a, b: (a + b))"
   ]
  },
  {
   "cell_type": "code",
   "execution_count": 7,
   "id": "69d46b4b-f0fd-4879-9865-e4277ef40668",
   "metadata": {},
   "outputs": [],
   "source": [
    "counts.coalesce(1).saveAsTextFile('output')"
   ]
  },
  {
   "cell_type": "code",
   "execution_count": null,
   "id": "26ddcf89-5683-4450-b81b-33ed0e6ddd88",
   "metadata": {},
   "outputs": [],
   "source": []
  }
 ],
 "metadata": {
  "kernelspec": {
   "display_name": "Python 3 (ipykernel)",
   "language": "python",
   "name": "python3"
  },
  "language_info": {
   "codemirror_mode": {
    "name": "ipython",
    "version": 3
   },
   "file_extension": ".py",
   "mimetype": "text/x-python",
   "name": "python",
   "nbconvert_exporter": "python",
   "pygments_lexer": "ipython3",
   "version": "3.11.6"
  }
 },
 "nbformat": 4,
 "nbformat_minor": 5
}
