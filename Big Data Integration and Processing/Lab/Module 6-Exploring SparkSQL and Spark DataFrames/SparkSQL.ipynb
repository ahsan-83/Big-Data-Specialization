{
 "cells": [
  {
   "cell_type": "markdown",
   "id": "3ad5b80c-e407-44db-91b9-b70ab2b54aa0",
   "metadata": {},
   "source": [
    "# Hands On: Spark SQL"
   ]
  },
  {
   "cell_type": "code",
   "execution_count": null,
   "id": "deecc056-e53c-4d05-989d-815abe3b6b24",
   "metadata": {},
   "outputs": [],
   "source": [
    "from pyspark.sql import SparkSession"
   ]
  },
  {
   "cell_type": "code",
   "execution_count": null,
   "id": "af227ad9-4bf2-4c0e-ade9-3f96596e9199",
   "metadata": {},
   "outputs": [],
   "source": [
    "spark = SparkSession.builder.appName(\"SQL\").getOrCreate()"
   ]
  },
  {
   "cell_type": "code",
   "execution_count": null,
   "id": "948dc8cf-7c13-403d-b273-eed69eede895",
   "metadata": {},
   "outputs": [],
   "source": [
    "df = spark.read.csv(\"data/game-clicks.csv\", header=True, inferSchema=True)"
   ]
  },
  {
   "cell_type": "code",
   "execution_count": null,
   "id": "ffcfb749-8b3f-49cf-ad23-af83e0015d41",
   "metadata": {},
   "outputs": [],
   "source": [
    "df.printSchema()"
   ]
  },
  {
   "cell_type": "code",
   "execution_count": null,
   "id": "dee6185c-a790-4ee3-af36-b57737051343",
   "metadata": {},
   "outputs": [],
   "source": [
    "df.count()"
   ]
  },
  {
   "cell_type": "code",
   "execution_count": null,
   "id": "d6aa7d72-9489-4464-b96c-587e69781319",
   "metadata": {},
   "outputs": [],
   "source": [
    "df.show(5)"
   ]
  },
  {
   "cell_type": "code",
   "execution_count": null,
   "id": "642b67f7-cf3b-4de8-af78-eca5be150ab2",
   "metadata": {},
   "outputs": [],
   "source": [
    "df.select(\"userid\", \"teamlevel\").show(5)"
   ]
  },
  {
   "cell_type": "code",
   "execution_count": null,
   "id": "231bf2eb-af3c-466c-9adb-1db279dd72d9",
   "metadata": {},
   "outputs": [],
   "source": [
    "df.filter(df[\"teamlevel\"] > 1).select(\"userid\", \"teamlevel\").show(5)"
   ]
  },
  {
   "cell_type": "code",
   "execution_count": null,
   "id": "29d620b6-8616-4a61-add7-3a77c7aa2ca0",
   "metadata": {},
   "outputs": [],
   "source": [
    "df.groupBy(\"ishit\").count().show()"
   ]
  },
  {
   "cell_type": "code",
   "execution_count": null,
   "id": "adfd5e01-63f3-44b0-8fd9-dd8218877159",
   "metadata": {},
   "outputs": [],
   "source": [
    "from pyspark.sql.functions import *\n",
    "df.select(mean('ishit'), sum('ishit')).show()"
   ]
  },
  {
   "cell_type": "code",
   "execution_count": null,
   "id": "bef2ec44-0856-4611-892f-e8b35d87fe9a",
   "metadata": {},
   "outputs": [],
   "source": [
    "df2 = spark.read.csv(\"data/ad-clicks.csv\", header=True, inferSchema=True)"
   ]
  },
  {
   "cell_type": "code",
   "execution_count": null,
   "id": "d34eab98-620b-48f0-a677-9550d98085b3",
   "metadata": {},
   "outputs": [],
   "source": [
    "df2.printSchema()"
   ]
  },
  {
   "cell_type": "code",
   "execution_count": null,
   "id": "c4ab81a7-7fa4-4c14-b8c7-95affa558ed8",
   "metadata": {},
   "outputs": [],
   "source": [
    "merge = df.join(df2, 'userid')"
   ]
  },
  {
   "cell_type": "code",
   "execution_count": null,
   "id": "963aeb3d-57c8-42df-8cd2-e394469e64f3",
   "metadata": {},
   "outputs": [],
   "source": [
    "merge.printSchema()"
   ]
  },
  {
   "cell_type": "code",
   "execution_count": null,
   "id": "04936fad-f9de-4613-92b8-e0ce4be1d1c3",
   "metadata": {},
   "outputs": [],
   "source": [
    "merge.show(5)"
   ]
  }
 ],
 "metadata": {
  "kernelspec": {
   "display_name": "Python 3 (ipykernel)",
   "language": "python",
   "name": "python3"
  },
  "language_info": {
   "codemirror_mode": {
    "name": "ipython",
    "version": 3
   },
   "file_extension": ".py",
   "mimetype": "text/x-python",
   "name": "python",
   "nbconvert_exporter": "python",
   "pygments_lexer": "ipython3",
   "version": "3.11.6"
  }
 },
 "nbformat": 4,
 "nbformat_minor": 5
}
